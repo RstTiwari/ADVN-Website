{
  "nbformat": 4,
  "nbformat_minor": 0,
  "metadata": {
    "colab": {
      "provenance": [],
      "toc_visible": true,
      "collapsed_sections": [
        "DvKo8cYGBHl3",
        "HWoo081sR28v",
        "EYTXjWv9nyig",
        "LfdxwEAVxJQ0"
      ],
      "authorship_tag": "ABX9TyM7lhG3zw+nFvFxoqNJNZZx",
      "include_colab_link": true
    },
    "kernelspec": {
      "name": "python3",
      "display_name": "Python 3"
    },
    "language_info": {
      "name": "python"
    }
  },
  "cells": [
    {
      "cell_type": "markdown",
      "metadata": {
        "id": "view-in-github",
        "colab_type": "text"
      },
      "source": [
        "<a href=\"https://colab.research.google.com/github/RstTiwari/ADVN-Website/blob/main/day1.ipynb\" target=\"_parent\"><img src=\"https://colab.research.google.com/assets/colab-badge.svg\" alt=\"Open In Colab\"/></a>"
      ]
    },
    {
      "cell_type": "markdown",
      "source": [
        "# Except handing"
      ],
      "metadata": {
        "id": "Fs84T-CC9fc5"
      }
    },
    {
      "cell_type": "code",
      "source": [
        "\n",
        "# Zero Divison Error\n",
        "x = 10\n",
        "y = 0\n",
        "try:\n",
        "  ratio = x/y\n",
        "  print(ratio)\n",
        "except ZeroDivisionError:\n",
        "  print(\"is not Divisible\".format(x))\n",
        "\n",
        "\n",
        "#IOERROR\n",
        "\n",
        "try:\n",
        "  fp = open(\"sample.txt\")\n",
        "except IOError as e:\n",
        "  print(\"IO ERROR\".format(e.errno),e)\n",
        "\n",
        "\n",
        "\n",
        "#EFO ERROR and VALUE ERROR\n",
        "\n",
        "age =  -1\n",
        "while age <= 0:\n",
        "  try:\n",
        "    age = int(input(\"enter the age\"))\n",
        "    if age <= 0:\n",
        "      raise ValueError(\"Enter the correct Age\")\n",
        "    print(age)\n",
        "  except(ValueError,EOFError):\n",
        "    continue\n",
        "\n"
      ],
      "metadata": {
        "colab": {
          "base_uri": "https://localhost:8080/"
        },
        "id": "63xWHgl09m3J",
        "outputId": "3aa08ee8-eaf3-49fa-a001-dbdb7817610d"
      },
      "execution_count": null,
      "outputs": [
        {
          "output_type": "stream",
          "name": "stdout",
          "text": [
            "is not Divisible\n",
            "IO ERROR [Errno 2] No such file or directory: 'sample.txt'\n"
          ]
        }
      ]
    },
    {
      "cell_type": "markdown",
      "source": [
        "#  Iterators and Generators\n"
      ],
      "metadata": {
        "id": "DvKo8cYGBHl3"
      }
    },
    {
      "cell_type": "code",
      "source": [
        "# Ittretors => and object that manage to call itration through serires of values\n",
        "# Genrators  = > A method of calling ittretors rathern the traditionla method\n",
        "\n",
        "# Q) Finding the Divisibales of 100\n",
        "\n",
        "# Traditional Function\n",
        "def traditional__divisible_function(n):\n",
        "  div = []\n",
        "  for i in range(1,n+1):\n",
        "    if n % i == 0:\n",
        "      div.append(i)\n",
        "  return div\n",
        "\n",
        "print(traditional__divisible_function(100))\n"
      ],
      "metadata": {
        "colab": {
          "base_uri": "https://localhost:8080/"
        },
        "id": "9jUPOgIiHgJ4",
        "outputId": "35098c1a-3313-4f9a-ea1c-835bd736929e"
      },
      "execution_count": 4,
      "outputs": [
        {
          "output_type": "stream",
          "name": "stdout",
          "text": [
            "[1, 2, 4, 5, 10, 20, 25, 50, 100]\n"
          ]
        }
      ]
    },
    {
      "cell_type": "code",
      "source": [
        "def genretors_division(n):\n",
        "  for i in range(1,n+1):\n",
        "    if  n % i == 0:\n",
        "      yield i\n",
        "\n",
        "\n",
        "\n",
        "for factors in genretors_division(100):\n",
        "  print(factors)\n"
      ],
      "metadata": {
        "colab": {
          "base_uri": "https://localhost:8080/"
        },
        "id": "d0JgfBR9NIB2",
        "outputId": "72d7495b-c619-479b-8656-6a629ef265dd"
      },
      "execution_count": 5,
      "outputs": [
        {
          "output_type": "stream",
          "name": "stdout",
          "text": [
            "1\n",
            "2\n",
            "4\n",
            "5\n",
            "10\n",
            "20\n",
            "25\n",
            "50\n",
            "100\n"
          ]
        }
      ]
    },
    {
      "cell_type": "markdown",
      "source": [
        "# Additional Python Conveniences"
      ],
      "metadata": {
        "id": "HWoo081sR28v"
      }
    },
    {
      "cell_type": "code",
      "source": [
        "#Conditional Expression\n",
        "n = 2\n",
        "if n < 10:\n",
        "  param = n\n",
        "else:\n",
        "  param = n\n",
        "\n",
        "print(param)\n",
        "\n",
        "\n",
        "#shorthand of this\n",
        "param = n if n >= 0 else -param\n",
        "def fun1():\n",
        "  print(\"fun1 called\")\n",
        "\n",
        "def fun2():\n",
        "  print(\"fun2 called\")\n",
        "\n",
        "fun1() if n == 2 else fun2()"
      ],
      "metadata": {
        "colab": {
          "base_uri": "https://localhost:8080/"
        },
        "id": "KORsjscoR63I",
        "outputId": "b3b3622c-5272-43d5-8e9f-2e706b100edd"
      },
      "execution_count": 9,
      "outputs": [
        {
          "output_type": "stream",
          "name": "stdout",
          "text": [
            "2\n",
            "fun1 called\n"
          ]
        }
      ]
    },
    {
      "cell_type": "markdown",
      "source": [
        "# Comprehension Syntax"
      ],
      "metadata": {
        "id": "EYTXjWv9nyig"
      }
    },
    {
      "cell_type": "code",
      "source": [
        "# Using comprehnsion Syntax insted of itrables\n",
        "\n",
        "##=> comprehension_syntax = [ expresion for value in [] if condition]\n",
        "\n",
        "# finiding Prime Numbers\n",
        "result = [value for value in range(1,10) if value % 2 == 0]\n",
        "print(result)\n",
        "\n",
        "# Finding the Factorial\n",
        "\n",
        "def factorial(n):\n",
        "  if n == 0 or n == 1:\n",
        "    return 1\n",
        "  else:\n",
        "    result = 1\n",
        "    for i in range (2, n+1):\n",
        "      result *= i\n",
        "  return result\n",
        "\n",
        "\n",
        "def recu_factorial(n):\n",
        "  if n == 0 or n ==1:\n",
        "    return 1\n",
        "  else:\n",
        "     return n * recu_factorial(n-1)\n",
        "\n",
        "factorial = [recu_factorial(k) for k  in range(1, 15)]\n",
        "print(factorial)\n",
        "\n",
        "\n",
        "#==> there are multiplle of comprehensin synstax like\n",
        "set_comprehisnon = (k*k for k in range(1,20))\n",
        "print(set_comprehisnon)\n",
        "dict_comprehension = {k:k**2 for k in range(10,20)}\n",
        "print(dict_comprehension)\n",
        "\n"
      ],
      "metadata": {
        "colab": {
          "base_uri": "https://localhost:8080/"
        },
        "id": "1m3u2ns5n2Je",
        "outputId": "df5a520b-bc6d-438c-c2bc-291a7d9cc5c6"
      },
      "execution_count": 25,
      "outputs": [
        {
          "output_type": "stream",
          "name": "stdout",
          "text": [
            "[2, 4, 6, 8]\n",
            "[1, 2, 6, 24, 120, 720, 5040, 40320, 362880, 3628800, 39916800, 479001600, 6227020800, 87178291200]\n",
            "<generator object <genexpr> at 0x7a3ae0a13b50>\n",
            "{10: 100, 11: 121, 12: 144, 13: 169, 14: 196, 15: 225, 16: 256, 17: 289, 18: 324, 19: 361}\n"
          ]
        }
      ]
    },
    {
      "cell_type": "code",
      "source": [],
      "metadata": {
        "id": "wwqs1Evuqaxq"
      },
      "execution_count": null,
      "outputs": []
    },
    {
      "cell_type": "markdown",
      "source": [
        "# Packaging and Unpacking Sequences"
      ],
      "metadata": {
        "id": "LfdxwEAVxJQ0"
      }
    },
    {
      "cell_type": "code",
      "source": [
        "# Understading packaging and unpackaging of sequences\n",
        "data = 2,4,5,6   # it will created a tuple automatically\n",
        "print(type(data))\n",
        "\n",
        "a,b,c,d = 1,2,3,5   # here first it packs values as tuple then it unpack the value into identifiers\n",
        "print(d)\n",
        "\n",
        "x,y,z =  range (1,4)  # It Unpack all the values to given identifiers\n",
        "print(z,'z')\n",
        "\n",
        "def unpack():\n",
        "  x = 20\n",
        "  y = 30\n",
        "  return x,y\n",
        "x,y = unpack()\n",
        "print(x,y ,type(x))\n",
        "\n",
        "\n",
        "#Simultaneos Assignment\n",
        "\n",
        "\n",
        "\n",
        "\n"
      ],
      "metadata": {
        "colab": {
          "base_uri": "https://localhost:8080/"
        },
        "id": "LuF70FAkxPAM",
        "outputId": "293e6925-42ec-4c9e-dbbf-ddb9d76b5248"
      },
      "execution_count": 37,
      "outputs": [
        {
          "output_type": "stream",
          "name": "stdout",
          "text": [
            "<class 'tuple'>\n",
            "5\n",
            "3 z\n",
            "20 30 <class 'int'>\n"
          ]
        }
      ]
    },
    {
      "cell_type": "markdown",
      "source": [
        "# Scopes and NameSpaces"
      ],
      "metadata": {
        "id": "qGq-nzvL39m8"
      }
    },
    {
      "cell_type": "code",
      "source": [
        "#Scopes\n",
        "'''there are Global scope identifeirs and then there is Local scope identiers\n",
        "Python manegs all this thing with Me\n",
        "'''\n",
        "\n",
        "x = 100  # Global Namespace\n",
        "\n",
        "def outer():\n",
        "  y = 30\n",
        "  def inner():\n",
        "    z = 20\n",
        "    x = 40\n",
        "    print(x,y,z ,\"x,y,,z in inners\")  # 40,30,20\n",
        "  inner()\n",
        "\n",
        "outer()\n",
        "print(x,\"x is Global name space\")  # 100\n",
        "\n",
        "\n",
        "#Even More comple NameSpace\n",
        "\n",
        "x = 5\n",
        "\n",
        "def outer():\n",
        "  global x\n",
        "  x = 10\n",
        "  def inner():\n",
        "    global x\n",
        "    x = 15\n",
        "  print(\"x before calling inner\",x)\n",
        "  inner()\n",
        "  print(\"X after calling inner\")\n",
        "\n",
        "\n",
        "outer()\n",
        "print(\"x value afteer calling outer\",x)\n",
        "\n",
        "\n",
        "\n",
        "\n",
        "\n",
        "\n",
        "\n",
        "\n"
      ],
      "metadata": {
        "colab": {
          "base_uri": "https://localhost:8080/"
        },
        "id": "mjTja2OO4B1w",
        "outputId": "e3c885a9-8213-4706-d11a-a23eeb21040c"
      },
      "execution_count": 40,
      "outputs": [
        {
          "output_type": "stream",
          "name": "stdout",
          "text": [
            "40 30 20 x,y,,z in inners\n",
            "100 x is Global name space\n",
            "x before calling inner 10\n",
            "X after calling inner\n",
            "x value afteer calling outer 15\n"
          ]
        }
      ]
    },
    {
      "cell_type": "markdown",
      "source": [
        "# Exercise"
      ],
      "metadata": {
        "id": "mJGc9IExCksC"
      }
    },
    {
      "cell_type": "markdown",
      "source": [
        "Demonstrate how to use Python’s list comprehension syntax to produce\n",
        "the list [0, 2, 6, 12, 20, 30, 42, 56, 72, 90]."
      ],
      "metadata": {
        "id": "9JDnnL8bCsv6"
      }
    },
    {
      "cell_type": "code",
      "source": [
        "def get_two_multiple(value):\n",
        "  value = value*(value+1)\n",
        "  return value\n",
        "\n",
        "\n",
        "check_list = list(range(10))\n",
        "print(check_list)\n",
        "\n",
        "\n",
        "\n",
        "\n",
        "\n",
        "result = [get_two_multiple(value) for value in range(10)]\n",
        "print(result)"
      ],
      "metadata": {
        "colab": {
          "base_uri": "https://localhost:8080/"
        },
        "id": "tsNzvrjGCtzw",
        "outputId": "b1695642-bbd9-459f-a0d3-844ccd9fb9df"
      },
      "execution_count": 56,
      "outputs": [
        {
          "output_type": "stream",
          "name": "stdout",
          "text": [
            "[0, 1, 2, 3, 4, 5, 6, 7, 8, 9]\n",
            "[0, 2, 6, 12, 20, 30, 42, 56, 72, 90]\n"
          ]
        }
      ]
    }
  ]
}