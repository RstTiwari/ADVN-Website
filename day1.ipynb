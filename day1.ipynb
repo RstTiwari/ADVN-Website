{
  "nbformat": 4,
  "nbformat_minor": 0,
  "metadata": {
    "colab": {
      "provenance": [],
      "toc_visible": true,
      "authorship_tag": "ABX9TyNo23fenWFLLrxWFwKSv5Cy",
      "include_colab_link": true
    },
    "kernelspec": {
      "name": "python3",
      "display_name": "Python 3"
    },
    "language_info": {
      "name": "python"
    }
  },
  "cells": [
    {
      "cell_type": "markdown",
      "metadata": {
        "id": "view-in-github",
        "colab_type": "text"
      },
      "source": [
        "<a href=\"https://colab.research.google.com/github/RstTiwari/ADVN-Website/blob/main/day1.ipynb\" target=\"_parent\"><img src=\"https://colab.research.google.com/assets/colab-badge.svg\" alt=\"Open In Colab\"/></a>"
      ]
    },
    {
      "cell_type": "markdown",
      "source": [
        "# Except handing"
      ],
      "metadata": {
        "id": "Fs84T-CC9fc5"
      }
    },
    {
      "cell_type": "code",
      "source": [
        "\n",
        "# Zero Divison Error\n",
        "x = 10\n",
        "y = 0\n",
        "try:\n",
        "  ratio = x/y\n",
        "  print(ratio)\n",
        "except ZeroDivisionError:\n",
        "  print(\"is not Divisible\".format(x))\n",
        "\n",
        "\n",
        "#IOERROR\n",
        "\n",
        "try:\n",
        "  fp = open(\"sample.txt\")\n",
        "except IOError as e:\n",
        "  print(\"IO ERROR\".format(e.errno),e)\n",
        "\n",
        "\n",
        "\n",
        "#EFO ERROR and VALUE ERROR\n",
        "\n",
        "age =  -1\n",
        "while age <= 0:\n",
        "  try:\n",
        "    age = int(input(\"enter the age\"))\n",
        "    if age <= 0:\n",
        "      raise ValueError(\"Enter the correct Age\")\n",
        "    print(age)\n",
        "  except(ValueError,EOFError):\n",
        "    continue\n",
        "\n"
      ],
      "metadata": {
        "colab": {
          "base_uri": "https://localhost:8080/"
        },
        "id": "63xWHgl09m3J",
        "outputId": "19060802-e36a-485d-9d0f-11cacc3b37ca"
      },
      "execution_count": null,
      "outputs": [
        {
          "metadata": {
            "tags": null
          },
          "name": "stdout",
          "output_type": "stream",
          "text": [
            "is not Divisible\n",
            "IO ERROR [Errno 2] No such file or directory: 'sample.txt'\n"
          ]
        }
      ]
    },
    {
      "cell_type": "code",
      "source": [],
      "metadata": {
        "id": "z3Fjt2Im9zm0"
      },
      "execution_count": null,
      "outputs": []
    },
    {
      "cell_type": "markdown",
      "source": [
        "#  Iterators and Generators\n"
      ],
      "metadata": {
        "id": "DvKo8cYGBHl3"
      }
    },
    {
      "cell_type": "code",
      "source": [
        "# Ittretors => and object that manage to call itration through serires of values\n",
        "# Genrators  = > A method of calling ittrrottts rathern the traditionla method\n",
        "\n",
        "# Q) Finding the Divisibales of 100\n",
        "\n",
        "# Traditional Function\n",
        "def traditional__divisible_function(n):\n",
        "  div = []\n",
        "  for i in range(1,n+1):\n",
        "    if n % i == 0:\n",
        "      div.append(i)\n",
        "  return div\n",
        "\n",
        "print(traditional__divisible_function(100))\n"
      ],
      "metadata": {
        "id": "_RkRUlrzBPPH"
      },
      "execution_count": null,
      "outputs": []
    },
    {
      "cell_type": "code",
      "source": [
        "# Genretors method to make same itrreables\n",
        "def genretors_division(n):\n",
        "  for i in range(1,n+1):\n",
        "    if  n % i == 0:\n",
        "      yield i\n",
        "\n",
        "\n",
        "\n",
        "for factors in genretors_division(100):\n",
        "  print(factors)\n",
        "\n"
      ],
      "metadata": {
        "id": "j27In402EH-T"
      },
      "execution_count": null,
      "outputs": []
    }
  ]
}